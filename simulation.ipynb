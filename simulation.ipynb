{
 "cells": [
  {
   "cell_type": "markdown",
   "metadata": {},
   "source": [
    "# # Understanding the Heatmap\n",
    "# \n",
    "# - **Each column** represents a _generation_, starting from **Generation 0**.\n",
    "# - **Each row** corresponds to an _individual worm_ in the population.\n",
    "# - **Colors** represent different 'parent' worms. A _color change_ across a row signifies a change in lineage.\n",
    "# - The goal is to observe how certain **colors** (traits) become _dominant_ or _fixed_ over time.\n",
    "# - A color _dominating_ an entire column indicates **fixation** of that trait in the population.\n",
    "# \n",
    "# *This simulation illustrates the concept of **genetic drift**, where random changes in trait frequency can lead to fixation over generations.*\n",
    "# \n",
    "# Please use the slider configuration below to alter the parameters, and then click \"Run Simulation\" to execute."
   ]
  },
  {
   "cell_type": "code",
   "execution_count": 4,
   "metadata": {},
   "outputs": [
    {
     "data": {
      "application/vnd.jupyter.widget-view+json": {
       "model_id": "f9ccaa671eab46e696bdc163e2196462",
       "version_major": 2,
       "version_minor": 0
      },
      "text/plain": [
       "IntSlider(value=5, description='Population Size:', max=20, min=1)"
      ]
     },
     "metadata": {},
     "output_type": "display_data"
    },
    {
     "data": {
      "application/vnd.jupyter.widget-view+json": {
       "model_id": "b2b1c535962f468595de529b9509fe32",
       "version_major": 2,
       "version_minor": 0
      },
      "text/plain": [
       "IntSlider(value=20, description='Max Generations:', min=1)"
      ]
     },
     "metadata": {},
     "output_type": "display_data"
    },
    {
     "data": {
      "application/vnd.jupyter.widget-view+json": {
       "model_id": "a7663cc607ca4698b690cdc69cabbfba",
       "version_major": 2,
       "version_minor": 0
      },
      "text/plain": [
       "Button(description='Run Simulation', style=ButtonStyle())"
      ]
     },
     "metadata": {},
     "output_type": "display_data"
    },
    {
     "data": {
      "application/vnd.jupyter.widget-view+json": {
       "model_id": "df4e3d21953c43b4b29dde60d04e4ee9",
       "version_major": 2,
       "version_minor": 0
      },
      "text/plain": [
       "Output()"
      ]
     },
     "metadata": {},
     "output_type": "display_data"
    }
   ],
   "source": [
    "import pandas as pd\n",
    "import random\n",
    "import matplotlib.pyplot as plt\n",
    "import seaborn as sns\n",
    "import pandas as pd\n",
    "import random\n",
    "import matplotlib.colors as mcolors\n",
    "import ipywidgets as widgets\n",
    "from IPython.display import display, clear_output\n",
    "\n",
    "def run_simulation(population_size, max_generations):\n",
    "    # Initialize the population and generations data\n",
    "    population = [i for i in range(population_size)]\n",
    "    generations = {0: population.copy()}\n",
    "\n",
    "    for generation in range(1, max_generations + 1):\n",
    "        next_generation = [random.choice(population) for _ in range(population_size)]\n",
    "        generations[generation] = next_generation\n",
    "        population = next_generation\n",
    "\n",
    "        # Check if an allele is fixed\n",
    "        if len(set(population)) == 1:\n",
    "            break\n",
    "\n",
    "    # Convert generations data to DataFrame for display\n",
    "    df = pd.DataFrame.from_dict(generations, orient='index').T\n",
    "    df.columns = [f'Generation {i}' for i in df.columns]\n",
    "\n",
    "    # Define a colormap: you can adjust these colors to represent different alleles\n",
    "    cmap = mcolors.ListedColormap(['red', 'blue', 'green', 'yellow', 'purple'])\n",
    "\n",
    " # Plot using seaborn heatmap\n",
    "    fig, (ax_heatmap, ax_text) = plt.subplots(ncols=2, gridspec_kw={'width_ratios': [4, 1]}, figsize=(12, 6))\n",
    "\n",
    "    # Heatmap\n",
    "    sns.heatmap(df.T, annot=True, cmap=cmap, cbar=False, ax=ax_heatmap)\n",
    "    ax_heatmap.set_title(\"Genetic Drift Simulation\", fontsize=16)\n",
    "    ax_heatmap.set_xlabel(\"Individual Worms\")\n",
    "    ax_heatmap.set_ylabel(\"Generations\")\n",
    "\n",
    "    # Sidebar with text\n",
    "    ax_text.axis('off')\n",
    "    text = \"Simulation Details:\\n\" \\\n",
    "           \"Population Size: {}\\n\" \\\n",
    "           \"Max Generations: {}\\n\\n\" \n",
    "           \n",
    "    ax_text.text(0.5, 0.5, text.format(population_size, max_generations), \n",
    "                 va='center', ha='center', wrap=True)\n",
    "\n",
    "    plt.tight_layout()\n",
    "    plt.show()\n",
    "    \n",
    "# Widget to input population size\n",
    "population_size_widget = widgets.IntSlider(value=5, min=1, max=20, step=1, description='Population Size:')\n",
    "\n",
    "# Widget to input max generations\n",
    "max_generations_widget = widgets.IntSlider(value=20, min=1, max=100, step=1, description='Max Generations:')\n",
    "\n",
    "# Button to run the simulation\n",
    "run_button = widgets.Button(description='Run Simulation')\n",
    "\n",
    "# Output widget to display the graph\n",
    "output = widgets.Output()\n",
    "\n",
    "def on_run_button_clicked(b):\n",
    "    # Function to handle button click event\n",
    "    with output:\n",
    "        clear_output(wait=True)\n",
    "        population_size = population_size_widget.value\n",
    "        max_generations = max_generations_widget.value\n",
    "        run_simulation(population_size, max_generations)\n",
    "\n",
    "run_button.on_click(on_run_button_clicked)\n",
    "# Display widgets\n",
    "display(population_size_widget, max_generations_widget, run_button, output)"
   ]
  }
 ],
 "metadata": {
  "kernelspec": {
   "display_name": "driftworms_simulation-Vf01JdPs",
   "language": "python",
   "name": "python3"
  },
  "language_info": {
   "codemirror_mode": {
    "name": "ipython",
    "version": 3
   },
   "file_extension": ".py",
   "mimetype": "text/x-python",
   "name": "python",
   "nbconvert_exporter": "python",
   "pygments_lexer": "ipython3",
   "version": "3.9.2"
  }
 },
 "nbformat": 4,
 "nbformat_minor": 2
}
