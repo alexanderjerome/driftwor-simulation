# %% [markdown]
# # # Understanding the Heatmap
# # 
# # - **Each column** represents a _generation_, starting from **Generation 0**.
# # - **Each row** corresponds to an _individual worm_ in the population.
# # - **Colors** represent different 'parent' worms. A _color change_ across a row signifies a change in lineage.
# # - The goal is to observe how certain **colors** (traits) become _dominant_ or _fixed_ over time.
# # - A color _dominating_ an entire column indicates **fixation** of that trait in the population.
# # 
# # *This simulation illustrates the concept of **genetic drift**, where random changes in trait frequency can lead to fixation over generations.*
# # 
# # Please use the slider configuration below to alter the parameters, and then click "Run Simulation" to execute.

# %%
import pandas as pd
import random
import matplotlib.pyplot as plt
import seaborn as sns
import pandas as pd
import random
import matplotlib.colors as mcolors
import ipywidgets as widgets
from IPython.display import display, clear_output

def run_simulation(population_size, max_generations):
    # Initialize the population and generations data
    population = [i for i in range(population_size)]
    generations = {0: population.copy()}

    for generation in range(1, max_generations + 1):
        next_generation = [random.choice(population) for _ in range(population_size)]
        generations[generation] = next_generation
        population = next_generation

        # Check if an allele is fixed
        if len(set(population)) == 1:
            break

    # Convert generations data to DataFrame for display
    df = pd.DataFrame.from_dict(generations, orient='index').T
    df.columns = [f'Generation {i}' for i in df.columns]

    # Define a colormap: you can adjust these colors to represent different alleles
    cmap = mcolors.ListedColormap(['red', 'blue', 'green', 'yellow', 'purple'])

 # Plot using seaborn heatmap
    fig, (ax_heatmap, ax_text) = plt.subplots(ncols=2, gridspec_kw={'width_ratios': [4, 1]}, figsize=(12, 6))

    # Heatmap
    sns.heatmap(df.T, annot=True, cmap=cmap, cbar=False, ax=ax_heatmap)
    ax_heatmap.set_title("Genetic Drift Simulation", fontsize=16)
    ax_heatmap.set_xlabel("Individual Worms")
    ax_heatmap.set_ylabel("Generations")

    # Sidebar with text
    ax_text.axis('off')
    text = "Simulation Details:\n" \
           "Population Size: {}\n" \
           "Max Generations: {}\n\n" 
           
    ax_text.text(0.5, 0.5, text.format(population_size, max_generations), 
                 va='center', ha='center', wrap=True)

    plt.tight_layout()
    plt.show()
    
# Widget to input population size
population_size_widget = widgets.IntSlider(value=5, min=1, max=20, step=1, description='Population Size:')

# Widget to input max generations
max_generations_widget = widgets.IntSlider(value=20, min=1, max=100, step=1, description='Max Generations:')

# Button to run the simulation
run_button = widgets.Button(description='Run Simulation')

# Output widget to display the graph
output = widgets.Output()

def on_run_button_clicked(b):
    # Function to handle button click event
    with output:
        clear_output(wait=True)
        population_size = population_size_widget.value
        max_generations = max_generations_widget.value
        run_simulation(population_size, max_generations)

run_button.on_click(on_run_button_clicked)
# Display widgets
display(population_size_widget, max_generations_widget, run_button, output)


